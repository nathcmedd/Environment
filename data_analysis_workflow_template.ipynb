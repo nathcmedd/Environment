{
 "cells": [
  {
   "cell_type": "markdown",
   "metadata": {},
   "source": [
    "# Microcosm Data Analysis Notebook"
   ]
  },
  {
   "cell_type": "markdown",
   "metadata": {},
   "source": [
    " ##### This notebook outlines a data analysis workflow for: "
   ]
  },
  {
   "cell_type": "markdown",
   "metadata": {},
   "source": [
    "My scientific hypothesis: "
   ]
  },
  {
   "cell_type": "code",
   "execution_count": null,
   "metadata": {},
   "outputs": [],
   "source": [
    "# "
   ]
  },
  {
   "cell_type": "markdown",
   "metadata": {},
   "source": [
    "My null hypothesis:"
   ]
  },
  {
   "cell_type": "code",
   "execution_count": null,
   "metadata": {},
   "outputs": [],
   "source": [
    "#"
   ]
  },
  {
   "cell_type": "markdown",
   "metadata": {},
   "source": [
    "Other notes about my data relevant to this analysis:"
   ]
  },
  {
   "cell_type": "code",
   "execution_count": null,
   "metadata": {},
   "outputs": [],
   "source": [
    "#\n",
    "#\n",
    "#"
   ]
  },
  {
   "cell_type": "markdown",
   "metadata": {},
   "source": [
    "## Step 1. Find and Import Data with Pandas"
   ]
  },
  {
   "cell_type": "code",
   "execution_count": null,
   "metadata": {
    "scrolled": true
   },
   "outputs": [],
   "source": [
    "#I need the module 'Pandas' to view my data as a dataframe in Python. I'll name it with the shorthand 'pd'\n",
    "\n",
    "import Pandas as pd\n",
    "\n",
    "# I'll load my excel data to a variable 'my_data'\n",
    "\n",
    "my_data = pd.read_excel('my_data.xlsx')\n",
    "\n",
    "#View the data\n",
    "\n",
    "my_data"
   ]
  },
  {
   "cell_type": "markdown",
   "metadata": {},
   "source": [
    "##### Is my data 'tidy'?"
   ]
  },
  {
   "cell_type": "markdown",
   "metadata": {},
   "source": [
    "- [ ] Each column is a unique variable\n",
    "- [ ] Each row is a unique observation\n",
    "- [ ] Each cell contains only one piece of data"
   ]
  },
  {
   "cell_type": "markdown",
   "metadata": {},
   "source": [
    "*If my data isn't tidy how will I rearrange it to make it into a tidy format? Will I do this manually in excel or will I practice my data management skills in python? Maybe I could check this guide to help me wrangle my data into a tidy format: https://byuidatascience.github.io/python4ds/tidy-data.html*"
   ]
  },
  {
   "cell_type": "markdown",
   "metadata": {},
   "source": [
    "Given my hypothesis my variables (columns) of interest are stated below along with the type of variable, i.e. whether the variable is categorical or numeric etc."
   ]
  },
  {
   "cell_type": "markdown",
   "metadata": {},
   "source": [
    "Explanitory variable:"
   ]
  },
  {
   "cell_type": "code",
   "execution_count": null,
   "metadata": {},
   "outputs": [],
   "source": [
    "#"
   ]
  },
  {
   "cell_type": "markdown",
   "metadata": {},
   "source": [
    "Response variable:"
   ]
  },
  {
   "cell_type": "code",
   "execution_count": null,
   "metadata": {},
   "outputs": [],
   "source": [
    "#"
   ]
  },
  {
   "cell_type": "markdown",
   "metadata": {},
   "source": [
    "I will decide on the most appropriate plot for my data using this flow chart: https://www.data-to-viz.com/ "
   ]
  },
  {
   "cell_type": "markdown",
   "metadata": {},
   "source": [
    "*What graph is most apropriate for my variables? Which module will I need to import?* "
   ]
  },
  {
   "cell_type": "markdown",
   "metadata": {},
   "source": [
    "## Step 2. Data Visualisation"
   ]
  },
  {
   "cell_type": "code",
   "execution_count": null,
   "metadata": {},
   "outputs": [],
   "source": [
    "# Ineed a module to make some graphs\n",
    "\n",
    "import seaborn as sns\n",
    "\n",
    "# Then my first graph will simply plot my explanitory variable against my response variable \n",
    "\n",
    "sns.scatterplot(data = my_data, \n",
    "             x=\"explanitory_variable\", \n",
    "             y=\"response_variable\")\n",
    "\n",
    "# ^^^^Just an example you may want to use a bar plot or other type of plot"
   ]
  },
  {
   "cell_type": "markdown",
   "metadata": {},
   "source": [
    "Now I need to make my graph more informative by adding details, changing axis titles, customising the appearance, adding another variable to colour my points/bars. \n",
    "\n",
    "I'll refer to the seaborn website if I get stuck: https://seaborn.pydata.org/ "
   ]
  },
  {
   "cell_type": "code",
   "execution_count": null,
   "metadata": {},
   "outputs": [],
   "source": [
    "#More graph code \n",
    "\n",
    "\n"
   ]
  },
  {
   "cell_type": "code",
   "execution_count": 3,
   "metadata": {},
   "outputs": [],
   "source": [
    "#Even more graph code\n",
    "\n"
   ]
  },
  {
   "cell_type": "markdown",
   "metadata": {},
   "source": [
    "Now I will save my graph in a suitable format using .savefig(\"name.jpg\")"
   ]
  },
  {
   "cell_type": "code",
   "execution_count": 4,
   "metadata": {},
   "outputs": [],
   "source": [
    "#Save graph\n"
   ]
  },
  {
   "cell_type": "markdown",
   "metadata": {},
   "source": [
    "## Step 3. Statistical analysis"
   ]
  },
  {
   "cell_type": "markdown",
   "metadata": {},
   "source": [
    "Is my data normally distributed? I will check using the tools I have learned in my degree so far.\n",
    "\n",
    "Here's a useful website I may use: https://www.scribbr.com/statistics/normal-distribution/ "
   ]
  },
  {
   "cell_type": "markdown",
   "metadata": {},
   "source": [
    "- [ ] My response variable is normally distributed\n",
    "- [ ] My response variable is not normally distributed or my sample size is small"
   ]
  },
  {
   "cell_type": "markdown",
   "metadata": {},
   "source": [
    "Given the data that I have I will decide on the most appropriate statistical analysis using the flow diagram found here: https://www.scribbr.com/statistics/statistical-tests/  "
   ]
  },
  {
   "cell_type": "code",
   "execution_count": null,
   "metadata": {},
   "outputs": [],
   "source": [
    "# I will import the module that contains the test I want to use\n",
    "\n",
    "import scipy.stats as sci  \n",
    "\n",
    "#many other statistical tests are available so I might also use a different module \n",
    "\n",
    "#Now I will run my ststistical test\n",
    "\n"
   ]
  },
  {
   "cell_type": "markdown",
   "metadata": {},
   "source": [
    "I refered to this website to make sure I was running the test in the right way: https://docs.scipy.org/doc/scipy/reference/stats.html#hypothesis-tests-and-related-functions "
   ]
  },
  {
   "cell_type": "markdown",
   "metadata": {},
   "source": [
    "The results are in! What are the outputs from my statistical test?"
   ]
  },
  {
   "cell_type": "markdown",
   "metadata": {},
   "source": [
    "My test statistic:"
   ]
  },
  {
   "cell_type": "code",
   "execution_count": null,
   "metadata": {},
   "outputs": [],
   "source": [
    "#"
   ]
  },
  {
   "cell_type": "markdown",
   "metadata": {},
   "source": [
    "My P-value"
   ]
  },
  {
   "cell_type": "code",
   "execution_count": null,
   "metadata": {},
   "outputs": [],
   "source": [
    "#"
   ]
  },
  {
   "cell_type": "markdown",
   "metadata": {},
   "source": [
    "What does this mean for my Hypothesis? Can I reject my null hypothesis?"
   ]
  },
  {
   "cell_type": "markdown",
   "metadata": {},
   "source": [
    "## Step 4. Rinse and Repeat"
   ]
  },
  {
   "cell_type": "markdown",
   "metadata": {},
   "source": [
    "Did this give me the results I expected? How do I interpret these results? Do I need to do this again with different data? Do I want to save and share this analysis with my friends and or the editors of Nature who will surely want to publish this paper?"
   ]
  },
  {
   "cell_type": "code",
   "execution_count": null,
   "metadata": {},
   "outputs": [],
   "source": [
    "# This is the start of your data analysis and data visualisation journey, not the end...."
   ]
  }
 ],
 "metadata": {
  "kernelspec": {
   "display_name": "Python 3",
   "language": "python",
   "name": "python3"
  },
  "language_info": {
   "codemirror_mode": {
    "name": "ipython",
    "version": 3
   },
   "file_extension": ".py",
   "mimetype": "text/x-python",
   "name": "python",
   "nbconvert_exporter": "python",
   "pygments_lexer": "ipython3",
   "version": "3.8.5"
  },
  "widgets": {
   "application/vnd.jupyter.widget-state+json": {
    "state": {
     "26db983ffd5d4ef8a7b1fabb898e3b28": {
      "model_module": "@jupyter-widgets/base",
      "model_module_version": "1.2.0",
      "model_name": "LayoutModel",
      "state": {}
     },
     "52c982a5804c4015a8c8a07193f624da": {
      "model_module": "@jupyter-widgets/controls",
      "model_module_version": "1.5.0",
      "model_name": "DescriptionStyleModel",
      "state": {
       "description_width": ""
      }
     },
     "6a1e3332cd3d4150865829748a7d3b47": {
      "model_module": "@jupyter-widgets/controls",
      "model_module_version": "1.5.0",
      "model_name": "DescriptionStyleModel",
      "state": {
       "description_width": ""
      }
     },
     "6d0e7870567b4ca3ae2d25c204537647": {
      "model_module": "@jupyter-widgets/base",
      "model_module_version": "1.2.0",
      "model_name": "LayoutModel",
      "state": {}
     },
     "c17be3a1a0bd4a0981c3b6157a8812a3": {
      "model_module": "@jupyter-widgets/base",
      "model_module_version": "1.2.0",
      "model_name": "LayoutModel",
      "state": {}
     },
     "da317b85d09040f9aca95363e9302ff0": {
      "model_module": "@jupyter-widgets/controls",
      "model_module_version": "1.5.0",
      "model_name": "TextModel",
      "state": {
       "description": "String:",
       "layout": "IPY_MODEL_26db983ffd5d4ef8a7b1fabb898e3b28",
       "placeholder": "Type something",
       "style": "IPY_MODEL_f3ff6de1a659434f8b453cda58945861",
       "value": "Hello World"
      }
     },
     "edc6196a9a6e4b21aca6c41a1d704c48": {
      "model_module": "@jupyter-widgets/controls",
      "model_module_version": "1.5.0",
      "model_name": "TextModel",
      "state": {
       "description": "String:",
       "layout": "IPY_MODEL_c17be3a1a0bd4a0981c3b6157a8812a3",
       "placeholder": "Type something",
       "style": "IPY_MODEL_6a1e3332cd3d4150865829748a7d3b47",
       "value": "Hello World"
      }
     },
     "f3ff6de1a659434f8b453cda58945861": {
      "model_module": "@jupyter-widgets/controls",
      "model_module_version": "1.5.0",
      "model_name": "DescriptionStyleModel",
      "state": {
       "description_width": ""
      }
     },
     "f95004acd1dd428383ad69f83457b09f": {
      "model_module": "@jupyter-widgets/controls",
      "model_module_version": "1.5.0",
      "model_name": "TextModel",
      "state": {
       "description": "String:",
       "layout": "IPY_MODEL_6d0e7870567b4ca3ae2d25c204537647",
       "placeholder": "Type something",
       "style": "IPY_MODEL_52c982a5804c4015a8c8a07193f624da",
       "value": "Hello World"
      }
     }
    },
    "version_major": 2,
    "version_minor": 0
   }
  }
 },
 "nbformat": 4,
 "nbformat_minor": 4
}
